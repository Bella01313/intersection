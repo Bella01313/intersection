{
  "nbformat": 4,
  "nbformat_minor": 0,
  "metadata": {
    "colab": {
      "provenance": []
    },
    "kernelspec": {
      "name": "python3",
      "display_name": "Python 3"
    },
    "language_info": {
      "name": "python"
    }
  },
  "cells": [
    {
      "cell_type": "code",
      "execution_count": 1,
      "metadata": {
        "colab": {
          "base_uri": "https://localhost:8080/"
        },
        "id": "s8wglCQYUTb0",
        "outputId": "790406c6-3c25-4052-c34c-8364b5edf8ce"
      },
      "outputs": [
        {
          "output_type": "stream",
          "name": "stdout",
          "text": [
            "Phishing detection complete. ✅\n"
          ]
        }
      ],
      "source": [
        "\n",
        "\n",
        "import pandas as pd\n",
        "phishing_keywords = [\"urgent\", \"password reset\", \"bank\", \"verify\", \"account suspended\"]\n",
        "\n",
        "emails = pd.read_csv(\"/content/2409000031.csv\")\n",
        "if 'Content' in emails.columns:\n",
        "  emails['is_phishing'] = emails['Content'].apply(\n",
        "      lambda x: any(keyword in str(x).lower() for keyword in phishing_keywords)\n",
        "  )\n",
        "  emails.to_csv(\"/content/2409000031_phishing.csv\", index=False)\n",
        "  print(\"Phishing detection complete. ✅\")\n",
        "else:\n",
        "  print(\"Error: The 'content' column is missing from the dataset.\")"
      ]
    }
  ]
}