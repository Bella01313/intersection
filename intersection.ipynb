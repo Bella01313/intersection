{
  "nbformat": 4,
  "nbformat_minor": 0,
  "metadata": {
    "colab": {
      "provenance": [],
      "authorship_tag": "ABX9TyNFx8UNsmes0As4zuyon7ux",
      "include_colab_link": true
    },
    "kernelspec": {
      "name": "python3",
      "display_name": "Python 3"
    },
    "language_info": {
      "name": "python"
    }
  },
  "cells": [
    {
      "cell_type": "markdown",
      "metadata": {
        "id": "view-in-github",
        "colab_type": "text"
      },
      "source": [
        "<a href=\"https://colab.research.google.com/github/Bella01313/intersection/blob/main/intersection.ipynb\" target=\"_parent\"><img src=\"https://colab.research.google.com/assets/colab-badge.svg\" alt=\"Open In Colab\"/></a>"
      ]
    },
    {
      "cell_type": "code",
      "execution_count": 1,
      "metadata": {
        "colab": {
          "base_uri": "https://localhost:8080/"
        },
        "id": "Qc-o0x0RADwU",
        "outputId": "813d1f82-a601-436c-d8b7-3e62a29f4a38"
      },
      "outputs": [
        {
          "output_type": "stream",
          "name": "stdout",
          "text": [
            "Intersection: {'are', 'in', 'we'}\n",
            "Union: {'classroom', 'in', 'a', 'are', 'we', 'office'}\n"
          ]
        }
      ],
      "source": [
        " def sentence_operations(sentence1, sentence2):\n",
        "  set1 = set(sentence1.lower().split())\n",
        "  set2 = set(sentence2.lower().split())\n",
        "\n",
        "  intersection = set1.intersection(set2)\n",
        "  union = set1.union(set2)\n",
        "\n",
        "  return intersection, union\n",
        "\n",
        "text1 = \"we are in a classroom\"\n",
        "text2 = \"we are in office\"\n",
        "intersection, union = sentence_operations(text1, text2)\n",
        "print(\"Intersection:\", intersection)\n",
        "print(\"Union:\", union)"
      ]
    },
    {
      "cell_type": "code",
      "source": [
        "def sentence_operations(sentence1, sentence2):\n",
        "  set1 = set(sentence1.lower().split())\n",
        "  set2 = set(sentence2.lower().split())\n",
        "\n",
        "  intersection = set1.intersection(set2)\n",
        "  union = set1.union(set2)\n",
        "\n",
        "  return intersection, union\n",
        "\n",
        "file1 = \"History is the systematic study of the past\"\n",
        "file2 = \"HIstory is the systematic study of the past, this is just for pracitce\"\n",
        "intersection, union = sentence_operations(file1, file2)\n",
        "print(\"Intersection:\", intersection)\n",
        "print(\"Union:\", union)"
      ],
      "metadata": {
        "colab": {
          "base_uri": "https://localhost:8080/"
        },
        "id": "GhCGLN6JCPMF",
        "outputId": "c0710114-ad05-45b6-9cd4-1ed7d3119196"
      },
      "execution_count": 3,
      "outputs": [
        {
          "output_type": "stream",
          "name": "stdout",
          "text": [
            "Intersection: {'systematic', 'is', 'of', 'study', 'the', 'history'}\n",
            "Union: {'systematic', 'is', 'just', 'of', 'study', 'past', 'the', 'this', 'history', 'pracitce', 'past,', 'for'}\n"
          ]
        }
      ]
    },
    {
      "cell_type": "code",
      "source": [],
      "metadata": {
        "id": "QMISBWiREyis"
      },
      "execution_count": null,
      "outputs": []
    }
  ]
}